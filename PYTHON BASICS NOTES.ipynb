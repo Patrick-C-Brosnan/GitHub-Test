{
 "cells": [
  {
   "cell_type": "markdown",
   "metadata": {},
   "source": [
    "## Lists and arrays"
   ]
  },
  {
   "cell_type": "markdown",
   "metadata": {},
   "source": [
    "#### Creating and adding to lists"
   ]
  },
  {
   "cell_type": "code",
   "execution_count": 2,
   "metadata": {},
   "outputs": [],
   "source": [
    "#Declare empty list\n",
    "mylist=[]\n",
    "\n",
    "#Declare list of elements\n",
    "mylist=[1,2,3]\n",
    "\n",
    "#Add to list\n",
    "mylist.append(4) #mylist becomes [1,2,3,4]\n",
    "newlist=[1,2,3]+[4,5] #Concatenate two lists\n",
    "\n",
    "#Multiplying lists\n",
    "\n",
    "newlist=mylist*3 #New list is [1,2,3,4,1,2,3,4,1,2,3,4]\n",
    "\n",
    "#Generate lists using range function\n",
    "a = [i ** 2 for i in range(1, 5)]\n",
    "b = [randrange(1, 10) for i in range(5)]\n",
    "c = list(range(5))"
   ]
  },
  {
   "cell_type": "markdown",
   "metadata": {},
   "source": [
    "#### List slices"
   ]
  },
  {
   "cell_type": "code",
   "execution_count": 17,
   "metadata": {},
   "outputs": [],
   "source": [
    "mylist=[0,1,2,3,4,5,6,7,8,9,10]"
   ]
  },
  {
   "cell_type": "code",
   "execution_count": null,
   "metadata": {},
   "outputs": [],
   "source": [
    "mylist[0:10] #Grabs first ten elements of list - A[i:j] = A[i], A[i+1], ..., A[j-1]\n",
    "mylist[0:10:2] #Grabs elements 0-10 (but skipping in 2) - A[i:j:k] = A[i], A[i+k], A[i+2*k]..\n",
    "\n",
    "mylist[5:] # 6th element onwards\n",
    "mylist[:8] # Up to 9th element\n",
    "\n",
    "mylist[-1]    # last item in the array\n",
    "mylist[-2:]   # last two items in the array\n",
    "mylist[:-2]   # everything except the last two items\n",
    "\n",
    "mylist[::-1]    # all items in the array, reversed\n",
    "mylist[1::-1]   # the first two items, reversed\n",
    "mylist[:-3:-1]  # the last two items, reversed\n",
    "mylist[-3::-1]  # everything except the last two items, reversed"
   ]
  },
  {
   "cell_type": "code",
   "execution_count": 18,
   "metadata": {},
   "outputs": [
    {
     "name": "stdout",
     "output_type": "stream",
     "text": [
      "10\n",
      "[9, 10]\n",
      "[0, 1, 2, 3, 4, 5, 6, 7, 8]\n"
     ]
    }
   ],
   "source": [
    "print(mylist[-1])\n",
    "print(mylist[-2:])\n",
    "print(mylist[:-2])"
   ]
  },
  {
   "cell_type": "code",
   "execution_count": 16,
   "metadata": {},
   "outputs": [
    {
     "name": "stdout",
     "output_type": "stream",
     "text": [
      "[10, 9, 8, 7, 6, 5, 4, 3, 2, 1, 0]\n",
      "[1, 0]\n",
      "[10, 9]\n",
      "[8, 7, 6, 5, 4, 3, 2, 1, 0]\n"
     ]
    }
   ],
   "source": [
    "print(mylist[::-1])\n",
    "print(mylist[1::-1])\n",
    "print(mylist[:-3:-1])\n",
    "print(mylist[-3::-1])"
   ]
  },
  {
   "cell_type": "markdown",
   "metadata": {},
   "source": [
    "#### List split and join"
   ]
  },
  {
   "cell_type": "code",
   "execution_count": 23,
   "metadata": {},
   "outputs": [
    {
     "name": "stdout",
     "output_type": "stream",
     "text": [
      "redbluegreen\n",
      "red blue green\n",
      "red,blue,green\n",
      "123\n",
      "1 2 3\n",
      "1,2,3\n"
     ]
    }
   ],
   "source": [
    "mylist1=['red','blue','green']\n",
    "mylist2=[1,2,3]\n",
    "\n",
    "print(''.join(mylist1))\n",
    "print(' '.join(mylist1))\n",
    "print(','.join(mylist1))\n",
    "\n",
    "print(''.join([str(i) for i in mylist2]))\n",
    "print(' '.join([str(i) for i in mylist2]))\n",
    "print(','.join([str(i) for i in mylist2]))"
   ]
  },
  {
   "cell_type": "code",
   "execution_count": 28,
   "metadata": {},
   "outputs": [
    {
     "name": "stdout",
     "output_type": "stream",
     "text": [
      "['one', 'two', 'three']\n",
      "['one', 'two', 'three']\n"
     ]
    }
   ],
   "source": [
    "mytext1='one two three'\n",
    "mytext2='one-two-three'\n",
    "\n",
    "print(mytext1.split())\n",
    "print(mytext2.split('-'))"
   ]
  },
  {
   "cell_type": "code",
   "execution_count": 33,
   "metadata": {},
   "outputs": [
    {
     "name": "stdout",
     "output_type": "stream",
     "text": [
      "[1, 2, 3, 4]\n",
      "[1, 2, 3, 4]\n"
     ]
    }
   ],
   "source": [
    "mynumber1=1234\n",
    "mynumber2='1 2 3 4'\n",
    "\n",
    "print([int(i) for i in str(mynumber1)])\n",
    "print([int(i) for i in mynumber2.split()])"
   ]
  },
  {
   "cell_type": "markdown",
   "metadata": {},
   "source": [
    "#### List operations"
   ]
  },
  {
   "cell_type": "code",
   "execution_count": null,
   "metadata": {},
   "outputs": [],
   "source": [
    "#Grabs last element of a list\n",
    "mylist.pop()\n",
    "\n",
    "#Check if element is in list - returns true/false\n",
    "x in mylist \n",
    "\n",
    "#Check if element is not in list - returns true/false\n",
    "x not in mylist \n",
    "\n",
    "#Min element in list\n",
    "min(mylist)\n",
    "\n",
    "#Max element in list\n",
    "max(mylist)\n",
    "\n",
    "#The index of the first occurrence of element x in the list; in its absence generates an exception ValueError\n",
    "mylist.index(x)\n",
    "\n",
    "#The number of occurrences of element x in the list\n",
    "mylist.count(x)"
   ]
  },
  {
   "cell_type": "markdown",
   "metadata": {},
   "source": [
    "## Dictionaries"
   ]
  },
  {
   "cell_type": "code",
   "execution_count": null,
   "metadata": {},
   "outputs": [],
   "source": [
    "#Also called associative array\n",
    "#Consists of paired records with key and value\n",
    "#Cannot be two identical keys in dictionary\n",
    "#Key can be any type of immutable (not changeable) data type: integers and real numbers, strings, tuples\n",
    "#Value can be any data type"
   ]
  },
  {
   "cell_type": "code",
   "execution_count": 39,
   "metadata": {},
   "outputs": [],
   "source": [
    "#Create empty dictionary\n",
    "mydict= dict()\n",
    "mydict= {}\n",
    "\n",
    "#Construct dictionary\n",
    "Capitals = {'Russia': 'Moscow', 'Ukraine': 'Kiev', 'USA': 'Washington'}\n",
    "Capitals = dict(RA = 'Moscow', Ukraine = 'Kiev', USA = 'Washington')\n",
    "Capitals = dict([(\"Russia\", \"Moscow\"), (\"Ukraine\", \"Kiev\"), (\"USA\", \"Washington\")])\n",
    "Capitals = dict(zip([\"Russia\", \"Ukraine\", \"USA\"], [\"Moscow\", \"Kiev\", \"Washington\"]))\n",
    "print(Capitals)\n",
    "\n",
    "\n",
    "#Add to dictionary\n",
    "mydict['key1'] = 'value1'\n",
    "mydict['key2'] = 'value2'\n",
    "mydict['key3'] = 'value3'\n",
    "\n",
    "#Call from dictionary\n",
    "mydict[key]     #If no key, returns KeyError\n",
    "mydict.get(key) #If no key, returns none\n",
    "mydict.get(key,va;) #If no key, returns val\n",
    "\n",
    "#Remove from dictionary\n",
    "del mydict[key] #If no key, returns KeyError\n",
    "\n",
    "if key in A:    #Handles removing if key is not in dictionary\n",
    "    del A[key]\n",
    "\n",
    "try:\n",
    "    del A[key]\n",
    "except KeyError:\n",
    "\tprint('There is no element with key \"' + key + '\" in dict') #Handles removing if key is not in dictionary\n",
    "print(A)\n"
   ]
  },
  {
   "cell_type": "markdown",
   "metadata": {},
   "source": [
    "#### Iterate through dictionaries"
   ]
  },
  {
   "cell_type": "code",
   "execution_count": null,
   "metadata": {},
   "outputs": [],
   "source": [
    "for key in A:\n",
    "    print(key, A[key])\n",
    "    \n",
    "for key in A.keys():\n",
    "    print(key)\n",
    "    \n",
    "for val in A.values():\n",
    "    print(val)\n",
    "    \n",
    "for key, val in A.items():\n",
    "    print(key, val)    "
   ]
  },
  {
   "cell_type": "markdown",
   "metadata": {},
   "source": [
    "## For loops"
   ]
  },
  {
   "cell_type": "markdown",
   "metadata": {},
   "source": [
    "#### Basic numeric loops"
   ]
  },
  {
   "cell_type": "code",
   "execution_count": null,
   "metadata": {},
   "outputs": [],
   "source": [
    "# Basic loop over numeric range - without specifying start it is assumed to be zero\n",
    "for i in range(10):\n",
    "    print(i)\n",
    "\n",
    "# Loop over numeric range with specific start point\n",
    "for i in range(5,10):\n",
    "    print(i)\n",
    "\n",
    "# Loop over numeric range with start+end points and specific step size\n",
    "for i in range(0,10,2):\n",
    "    print(i)\n",
    "\n",
    "# Loop over numeric range with start+end points and specific step size (backwards)\n",
    "for i in range(10,0,-2):\n",
    "    print(i)\n",
    "\n",
    "#Another way to loop in reverse\n",
    "for i in reversed(range(10)):\n",
    "    print(i)"
   ]
  },
  {
   "cell_type": "markdown",
   "metadata": {},
   "source": [
    "#### Loops over strings"
   ]
  },
  {
   "cell_type": "code",
   "execution_count": null,
   "metadata": {},
   "outputs": [],
   "source": [
    "#Loops through each character in word    \n",
    "for i in 'word':\n",
    "    print(i)\n",
    "    \n",
    "sentence='words in a sentence'\n",
    "\n",
    "#Loops through each character in sentence    \n",
    "for word in sentence:\n",
    "    print(word)   \n",
    "    \n",
    "#To loop through each word in sentence    \n",
    "for word in sentence.split():\n",
    "    print(word)   \n",
    "\n",
    "#To loop backwards through each word in sentence \n",
    "for word in reversed(sentence.split()):\n",
    "    print(word)   \n",
    "    "
   ]
  },
  {
   "cell_type": "markdown",
   "metadata": {},
   "source": [
    "#### Loops over lists/arrays"
   ]
  },
  {
   "cell_type": "code",
   "execution_count": 37,
   "metadata": {},
   "outputs": [
    {
     "name": "stdout",
     "output_type": "stream",
     "text": [
      "red\n",
      "blue\n",
      "green\n",
      " \n",
      "0 red\n",
      "1 blue\n",
      "2 green\n"
     ]
    }
   ],
   "source": [
    "mylist=['red','blue','green']\n",
    "\n",
    "#Can iterate over items in list (can use generic word, in this case 'element', to refer to items within list)\n",
    "for element in mylist:\n",
    "    print(element)\n",
    "\n",
    "#Use enumerate to capture the numeric index of a list element\n",
    "for num,word in enumerate(mylist):\n",
    "    print(num,word)    "
   ]
  },
  {
   "cell_type": "code",
   "execution_count": 35,
   "metadata": {},
   "outputs": [
    {
     "name": "stdout",
     "output_type": "stream",
     "text": [
      "red\n",
      "x\n",
      "blue\n",
      "y\n",
      "green\n",
      "z\n",
      " \n",
      "0 0 red\n",
      "0 1 x\n",
      "1 0 blue\n",
      "1 1 y\n",
      "2 0 green\n",
      "2 1 z\n"
     ]
    }
   ],
   "source": [
    "myarray=[['red','x'],['blue','y'],['green','z']]\n",
    "\n",
    "for element in myarray:\n",
    "    for word in element:\n",
    "        print(word)\n",
    "        \n",
    "for num1,element in enumerate(myarray):\n",
    "    for num2,word in enumerate(element):\n",
    "        print(num1,num2,word)"
   ]
  },
  {
   "cell_type": "markdown",
   "metadata": {},
   "source": [
    "## While loops"
   ]
  },
  {
   "cell_type": "code",
   "execution_count": null,
   "metadata": {},
   "outputs": [],
   "source": [
    "#Basic while loop example - keeps repeating loop whilst condition is true\n",
    "i = 1\n",
    "while i <= 10:\n",
    "    print(i ** 2)\n",
    "    i += 1\n",
    "\n",
    "#Example with else statement - gives action if condition is not true\n",
    "i = 1\n",
    "while i <= 10:\n",
    "    print(i)\n",
    "    i += 1\n",
    "else:\n",
    "    print('Loop ended, i =', i)\n",
    "    \n",
    "#Example using break - tells the program to exit loop\n",
    "total_sum = 0\n",
    "a = int(input())\n",
    "while a != 0:\n",
    "    total_sum += a\n",
    "    if total_sum >= 21:\n",
    "        print('Total sum is', total_sum)\n",
    "        break\n",
    "    a = int(input())\n",
    "else:\n",
    "    print('Total sum is less than 21 and is equal to', total_sum, '.')\n",
    "    \n",
    "\n",
    "#Example with continue - tells the program to skip all further steps and move on to next iteration\n",
    "for num in range(2, 10):\n",
    "    if num % 2 == 0:\n",
    "        print(\"Found an even number\", num)\n",
    "        continue\n",
    "    print(\"Found a number\", num)"
   ]
  }
 ],
 "metadata": {
  "kernelspec": {
   "display_name": "Python 3",
   "language": "python",
   "name": "python3"
  },
  "language_info": {
   "codemirror_mode": {
    "name": "ipython",
    "version": 3
   },
   "file_extension": ".py",
   "mimetype": "text/x-python",
   "name": "python",
   "nbconvert_exporter": "python",
   "pygments_lexer": "ipython3",
   "version": "3.7.6"
  }
 },
 "nbformat": 4,
 "nbformat_minor": 4
}
